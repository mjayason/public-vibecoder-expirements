{
  "cells": [
    {
      "cell_type": "code",
      "execution_count": null,
      "id": "94a36c2f",
      "metadata": {
        "id": "94a36c2f"
      },
      "outputs": [],
      "source": [
        "# Install dependencies"
      ]
    },
    {
      "cell_type": "code",
      "execution_count": 1,
      "id": "b00ab793",
      "metadata": {
        "colab": {
          "base_uri": "https://localhost:8080/"
        },
        "id": "b00ab793",
        "outputId": "8471f265-9b55-4de3-988f-368b9bd58957"
      },
      "outputs": [
        {
          "output_type": "stream",
          "name": "stdout",
          "text": [
            "Requirement already satisfied: openai in /usr/local/lib/python3.11/dist-packages (1.97.0)\n",
            "Requirement already satisfied: pyyaml in /usr/local/lib/python3.11/dist-packages (6.0.2)\n",
            "Requirement already satisfied: anyio<5,>=3.5.0 in /usr/local/lib/python3.11/dist-packages (from openai) (4.9.0)\n",
            "Requirement already satisfied: distro<2,>=1.7.0 in /usr/local/lib/python3.11/dist-packages (from openai) (1.9.0)\n",
            "Requirement already satisfied: httpx<1,>=0.23.0 in /usr/local/lib/python3.11/dist-packages (from openai) (0.28.1)\n",
            "Requirement already satisfied: jiter<1,>=0.4.0 in /usr/local/lib/python3.11/dist-packages (from openai) (0.10.0)\n",
            "Requirement already satisfied: pydantic<3,>=1.9.0 in /usr/local/lib/python3.11/dist-packages (from openai) (2.11.7)\n",
            "Requirement already satisfied: sniffio in /usr/local/lib/python3.11/dist-packages (from openai) (1.3.1)\n",
            "Requirement already satisfied: tqdm>4 in /usr/local/lib/python3.11/dist-packages (from openai) (4.67.1)\n",
            "Requirement already satisfied: typing-extensions<5,>=4.11 in /usr/local/lib/python3.11/dist-packages (from openai) (4.14.1)\n",
            "Requirement already satisfied: idna>=2.8 in /usr/local/lib/python3.11/dist-packages (from anyio<5,>=3.5.0->openai) (3.10)\n",
            "Requirement already satisfied: certifi in /usr/local/lib/python3.11/dist-packages (from httpx<1,>=0.23.0->openai) (2025.7.14)\n",
            "Requirement already satisfied: httpcore==1.* in /usr/local/lib/python3.11/dist-packages (from httpx<1,>=0.23.0->openai) (1.0.9)\n",
            "Requirement already satisfied: h11>=0.16 in /usr/local/lib/python3.11/dist-packages (from httpcore==1.*->httpx<1,>=0.23.0->openai) (0.16.0)\n",
            "Requirement already satisfied: annotated-types>=0.6.0 in /usr/local/lib/python3.11/dist-packages (from pydantic<3,>=1.9.0->openai) (0.7.0)\n",
            "Requirement already satisfied: pydantic-core==2.33.2 in /usr/local/lib/python3.11/dist-packages (from pydantic<3,>=1.9.0->openai) (2.33.2)\n",
            "Requirement already satisfied: typing-inspection>=0.4.0 in /usr/local/lib/python3.11/dist-packages (from pydantic<3,>=1.9.0->openai) (0.4.1)\n"
          ]
        }
      ],
      "source": [
        "!pip install openai pyyaml"
      ]
    },
    {
      "cell_type": "code",
      "execution_count": null,
      "id": "e937b1dc",
      "metadata": {
        "id": "e937b1dc"
      },
      "outputs": [],
      "source": [
        "# Imports and setup"
      ]
    },
    {
      "cell_type": "code",
      "execution_count": 5,
      "id": "42317be9",
      "metadata": {
        "id": "42317be9"
      },
      "outputs": [],
      "source": [
        "import yaml\n",
        "import xml.etree.ElementTree as ET\n",
        "from openai import OpenAI\n",
        "import os\n",
        "import getpass\n",
        "from google.colab import userdata\n",
        "\n",
        "client = OpenAI(api_key=userdata.get('OPENAI_API_KEY'))"
      ]
    },
    {
      "cell_type": "code",
      "execution_count": null,
      "id": "bb2ef048",
      "metadata": {
        "id": "bb2ef048"
      },
      "outputs": [],
      "source": [
        "# Load platform.yaml"
      ]
    },
    {
      "cell_type": "code",
      "execution_count": 6,
      "id": "575ca112",
      "metadata": {
        "id": "575ca112"
      },
      "outputs": [],
      "source": [
        "def load_platform_spec(path):\n",
        "    with open(path, 'r') as f:\n",
        "        return yaml.safe_load(f)"
      ]
    },
    {
      "cell_type": "code",
      "execution_count": null,
      "id": "19077581",
      "metadata": {
        "id": "19077581"
      },
      "outputs": [],
      "source": [
        "# Parse BPMN and handle tasks + subprocesses (Custom parser to avoid NetworkX compatibility issue)"
      ]
    },
    {
      "cell_type": "code",
      "execution_count": 7,
      "id": "0803b747",
      "metadata": {
        "id": "0803b747"
      },
      "outputs": [],
      "source": [
        "def parse_bpmn_tasks(file_path):\n",
        "    with open(file_path, 'r') as f:\n",
        "        xml_string = f.read()\n",
        "    xml_string = xml_string.replace(' & ', ' &amp; ')  # Escape & in names\n",
        "    root = ET.fromstring(xml_string)\n",
        "    namespaces = {'bpmn': 'http://www.omg.org/spec/BPMN/20100524/MODEL'}\n",
        "    tasks = []\n",
        "    for process in root.findall('.//bpmn:process', namespaces):\n",
        "        for task_elem in process.iter():\n",
        "            if task_elem.tag in ['{http://www.omg.org/spec/BPMN/20100524/MODEL}task', '{http://www.omg.org/spec/BPMN/20100524/MODEL}sendTask', '{http://www.omg.org/spec/BPMN/20100524/MODEL}receiveTask', '{http://www.omg.org/spec/BPMN/20100524/MODEL}userTask']:\n",
        "                task_type = task_elem.tag.split('}')[-1]\n",
        "                task_info = {\n",
        "                    'id': task_elem.get('id'),\n",
        "                    'name': task_elem.get('name', 'Unnamed'),\n",
        "                    'type': task_type\n",
        "                }\n",
        "                tasks.append(task_info)\n",
        "        for sub in process.findall('.//bpmn:subProcess', namespaces):\n",
        "            task_info = {\n",
        "                'id': sub.get('id'),\n",
        "                'name': sub.get('name', 'Unnamed'),\n",
        "                'type': 'subProcess',\n",
        "                'subtype': 'embedded'\n",
        "            }\n",
        "            tasks.append(task_info)\n",
        "        for call in process.findall('.//bpmn:callActivity', namespaces):\n",
        "            task_info = {\n",
        "                'id': call.get('id'),\n",
        "                'name': call.get('name', 'Unnamed'),\n",
        "                'type': 'callActivity',\n",
        "                'subtype': 'call-activity',\n",
        "                'calledElement': call.get('calledElement', 'Unknown')\n",
        "            }\n",
        "            tasks.append(task_info)\n",
        "    return tasks"
      ]
    },
    {
      "cell_type": "code",
      "execution_count": null,
      "id": "f47201a6",
      "metadata": {
        "id": "f47201a6"
      },
      "outputs": [],
      "source": [
        "# Governance-aware LLM code generator"
      ]
    },
    {
      "cell_type": "code",
      "execution_count": 8,
      "id": "2f9f2d3f",
      "metadata": {
        "id": "2f9f2d3f"
      },
      "outputs": [],
      "source": [
        "def generate_task_code(task, platform_spec, model=\"gpt-4\"):\n",
        "    devops = platform_spec.get(\"devops_governance\", {})\n",
        "    security = platform_spec.get(\"security_governance\", {})\n",
        "    llm_settings = platform_spec.get(\"llm_guidance\", {})\n",
        "\n",
        "    prompt = f\"\"\"\n",
        "    You are a platform-aware code generator.\n",
        "\n",
        "    Generate {platform_spec['language']} code for a BPMN task.\n",
        "    Task Name: \\\"{task['name']}\\\"\n",
        "    Task Type: {task['type']}\n",
        "    Platform Stack: {platform_spec['framework']}\n",
        "    Architecture: {', '.join(platform_spec.get('architecture_patterns', []))}\n",
        "\n",
        "    DevOps Governance:\n",
        "      - Source: {devops.get('source', 'N/A')}\n",
        "      - Enforced By: {devops.get('enforced_by', 'N/A')}\n",
        "      - DORA Tracking: {devops.get('dora_metrics', {}).get('source_of_truth', 'N/A')}\n",
        "      - Auto-inject Metrics: {llm_settings.get('auto_inject_metrics', True)}\n",
        "\n",
        "    Security Governance:\n",
        "      - Source: {security.get('source', 'N/A')}\n",
        "      - Auth: {security.get('authentication', {}).get('protocol', 'N/A')}\n",
        "      - API Gateway: {security.get('api_gateway', {}).get('provider', 'N/A')}\n",
        "\n",
        "    Instructions:\n",
        "      - Do NOT auto-inject Prometheus or OpenTelemetry metrics unless explicitly required.\n",
        "      - Respect all DevOps and Security governance references.\n",
        "      - Code should be governance-compliant, not ad-hoc.\n",
        "    \"\"\"\n",
        "\n",
        "    if task.get(\"subtype\") == \"call-activity\":\n",
        "        prompt += f\"\"\"\n",
        "        This is a CallActivity subprocess. Generate code that calls a reusable subprocess named \\\"{task['calledElement']}\\\".\n",
        "        Assume subprocess is governed and separately managed.\n",
        "        \"\"\"\n",
        "    elif task.get(\"subtype\") == \"embedded\":\n",
        "        prompt += \"\"\"\n",
        "        This is an embedded SubProcess. Generate a nested method or function that handles the internal logic inline.\n",
        "        \"\"\"\n",
        "\n",
        "    response = client.chat.completions.create(\n",
        "        model=model,\n",
        "        messages=[{\"role\": \"user\", \"content\": prompt}]\n",
        "    )\n",
        "    return response.choices[0].message.content"
      ]
    },
    {
      "cell_type": "code",
      "execution_count": null,
      "id": "0fd6263f",
      "metadata": {
        "id": "0fd6263f"
      },
      "outputs": [],
      "source": [
        "# Generate full project code"
      ]
    },
    {
      "cell_type": "code",
      "execution_count": 9,
      "id": "078a9a4b",
      "metadata": {
        "id": "078a9a4b"
      },
      "outputs": [],
      "source": [
        "def generate_code_from_bpmn(bpmn_path, platform_yaml_path, output_folder=\"generated_code\"):\n",
        "    tasks = parse_bpmn_tasks(bpmn_path)\n",
        "    platform_spec = load_platform_spec(platform_yaml_path)\n",
        "    os.makedirs(output_folder, exist_ok=True)\n",
        "\n",
        "    ext = {\n",
        "        \"java\": \"java\",\n",
        "        \"python\": \"py\",\n",
        "        \"csharp\": \"cs\"\n",
        "    }.get(platform_spec['language'].lower(), \"txt\")\n",
        "\n",
        "    for task in tasks:\n",
        "        print(f\"🔄 Generating code for: {task['name']} ({task['type']})\")\n",
        "        code = generate_task_code(task, platform_spec)\n",
        "\n",
        "        folder = os.path.join(output_folder, \"subprocesses\") if task.get('subtype') == 'call-activity' else output_folder\n",
        "        os.makedirs(folder, exist_ok=True)\n",
        "        filename = os.path.join(folder, f\"{task['name'].replace(' ', '_')}.{ext}\")\n",
        "\n",
        "        with open(filename, \"w\") as f:\n",
        "            f.write(code)\n",
        "\n",
        "        print(f\"✅ Saved to {filename}\")"
      ]
    },
    {
      "cell_type": "code",
      "execution_count": null,
      "id": "1905fef9",
      "metadata": {
        "id": "1905fef9"
      },
      "outputs": [],
      "source": [
        "# Run the generator\n",
        "# Replace with your file paths"
      ]
    },
    {
      "cell_type": "code",
      "execution_count": 11,
      "id": "82829fd1",
      "metadata": {
        "colab": {
          "base_uri": "https://localhost:8080/"
        },
        "id": "82829fd1",
        "outputId": "7af5d63f-1a1f-490f-db88-bd03ed14458d"
      },
      "outputs": [
        {
          "output_type": "stream",
          "name": "stdout",
          "text": [
            "🔄 Generating code for: Collect Customer & Coverage Info (QuoteAgent) (task)\n",
            "✅ Saved to generated_code/Collect_Customer_&_Coverage_Info_(QuoteAgent).java\n",
            "🔄 Generating code for: Assess Risk (RiskAgent) (task)\n",
            "✅ Saved to generated_code/Assess_Risk_(RiskAgent).java\n",
            "🔄 Generating code for: Retry Risk Assessment (task)\n",
            "✅ Saved to generated_code/Retry_Risk_Assessment.java\n",
            "🔄 Generating code for: Calculate Quote (PricingAgent) (task)\n",
            "✅ Saved to generated_code/Calculate_Quote_(PricingAgent).java\n",
            "🔄 Generating code for: Underwrite Policy (UnderwritingAgent) (task)\n",
            "✅ Saved to generated_code/Underwrite_Policy_(UnderwritingAgent).java\n",
            "🔄 Generating code for: Human Underwriter Review (task)\n",
            "✅ Saved to generated_code/Human_Underwriter_Review.java\n",
            "🔄 Generating code for: Return Quote to Customer (QuoteAgent) (task)\n",
            "✅ Saved to generated_code/Return_Quote_to_Customer_(QuoteAgent).java\n",
            "🔄 Generating code for: Process Payment (PaymentAgent) (task)\n",
            "✅ Saved to generated_code/Process_Payment_(PaymentAgent).java\n",
            "🔄 Generating code for: Bind Policy (BindAgent) (task)\n",
            "✅ Saved to generated_code/Bind_Policy_(BindAgent).java\n",
            "🔄 Generating code for: Send Confirmation (NotificationAgent) (task)\n",
            "✅ Saved to generated_code/Send_Confirmation_(NotificationAgent).java\n",
            "🔄 Generating code for: Send Request (sendTask)\n",
            "✅ Saved to generated_code/Send_Request.java\n",
            "🔄 Generating code for: Receive Quote (receiveTask)\n",
            "✅ Saved to generated_code/Receive_Quote.java\n",
            "🔄 Generating code for: Review and Decide (userTask)\n",
            "✅ Saved to generated_code/Review_and_Decide.java\n",
            "🔄 Generating code for: Send Acceptance (sendTask)\n",
            "✅ Saved to generated_code/Send_Acceptance.java\n",
            "🔄 Generating code for: Send Rejection (sendTask)\n",
            "✅ Saved to generated_code/Send_Rejection.java\n"
          ]
        }
      ],
      "source": [
        "bpmn_path = \"ai.bpmn\"  # Replace with your .bpmn file\n",
        "platform_yaml_path = \"platform.yaml\"\n",
        "\n",
        "generate_code_from_bpmn(bpmn_path, platform_yaml_path)"
      ]
    }
  ],
  "metadata": {
    "colab": {
      "provenance": []
    },
    "language_info": {
      "name": "python"
    },
    "kernelspec": {
      "name": "python3",
      "display_name": "Python 3"
    }
  },
  "nbformat": 4,
  "nbformat_minor": 5
}